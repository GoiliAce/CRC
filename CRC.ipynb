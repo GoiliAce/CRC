{
  "nbformat": 4,
  "nbformat_minor": 0,
  "metadata": {
    "colab": {
      "name": "CRC.ipynb",
      "provenance": [],
      "collapsed_sections": []
    },
    "kernelspec": {
      "name": "python3",
      "display_name": "Python 3"
    },
    "language_info": {
      "name": "python"
    }
  },
  "cells": [
    {
      "cell_type": "code",
      "execution_count": null,
      "metadata": {
        "id": "XclbizbH97gl"
      },
      "outputs": [],
      "source": [
        ""
      ]
    },
    {
      "cell_type": "code",
      "source": [
        "def xor(a,b):\n",
        "\t\tresult = []\n",
        "\t\tfor i in range(1,len(b)):\n",
        "\t\t\tif a[i] == b[i]:\n",
        "\t\t\t\tresult.append('0')\n",
        "\t\t\telse:\n",
        "\t\t\t\tresult.append('1')\n",
        "\n",
        "\n",
        "\t\treturn  ''.join(result)"
      ],
      "metadata": {
        "id": "EQw1sOuY-H13"
      },
      "execution_count": 1,
      "outputs": []
    },
    {
      "cell_type": "code",
      "source": [
        "def crc(message, key):\n",
        "\t\tpick = len(key)\n",
        "\t\ttmp = message[:pick]\n",
        "\t\twhile pick < len(message):\n",
        "\t\t\tif tmp[0] == '1':\n",
        "\t\t\t\ttmp = xor(key,tmp)+message[pick]\n",
        "\t\t\telse:\n",
        "\t\t\t\ttmp = xor('0'*pick,tmp) + message[pick]\n",
        "\t\t\tpick+=1\n",
        "\t\tif tmp[0] == \"1\":\n",
        "\t\t\ttmp = xor(key,tmp)\n",
        "\t\telse:\n",
        "\t\t\ttmp = xor('0'*pick,tmp)\n",
        "\t\tcheckword = tmp\n",
        "\t\treturn checkword"
      ],
      "metadata": {
        "id": "QvzaRaPV-Lnp"
      },
      "execution_count": 2,
      "outputs": []
    },
    {
      "cell_type": "code",
      "source": [
        "def encodedData(data,key):\n",
        "  l_key = len(key)\n",
        "  append_data = data + '0'*(l_key-1)\n",
        "  remainder = crc(append_data,key)\n",
        "  codeword = data+remainder\n",
        "  print(\"Remainder: \" ,remainder)\n",
        "  print(\"Data: \" ,codeword)\n",
        "  return codeword"
      ],
      "metadata": {
        "id": "fp80RgxN-VFa"
      },
      "execution_count": 11,
      "outputs": []
    },
    {
      "cell_type": "code",
      "source": [
        "def reciverSide(data,key):\n",
        "\t\tr = crc(data,key)\n",
        "\t\tsize = len(key)\n",
        "\t\tprint(r)\n",
        "\t\tif r == (size-1)*'0':\n",
        "\t\t\tprint(\"No Error\")\n",
        "\t\telse: \n",
        "\t\t\tprint(\"Error\")"
      ],
      "metadata": {
        "id": "pwXdLsRr-aCh"
      },
      "execution_count": 17,
      "outputs": []
    },
    {
      "cell_type": "code",
      "source": [
        "data = '00011000'  #my id: 18 to hex: 00011000\n",
        "key = '100101'      #CRC-5-USB\n",
        "cdw = encodedData(data,key)\n",
        "print('---------------')\n",
        "reciverSide(cdw,key)\n",
        "print('---------------')\n",
        "print(cdw)"
      ],
      "metadata": {
        "colab": {
          "base_uri": "https://localhost:8080/"
        },
        "id": "dBOjHYmu-cZG",
        "outputId": "16f86410-d85b-4578-f711-9819c157e1d5"
      },
      "execution_count": 19,
      "outputs": [
        {
          "output_type": "stream",
          "name": "stdout",
          "text": [
            "Remainder:  10111\n",
            "Data:  1100010111\n",
            "---------------\n",
            "00000\n",
            "No Error\n",
            "---------------\n",
            "1100010111\n"
          ]
        }
      ]
    },
    {
      "cell_type": "code",
      "source": [
        ""
      ],
      "metadata": {
        "id": "doiDBiEq_pDK"
      },
      "execution_count": null,
      "outputs": []
    }
  ]
}